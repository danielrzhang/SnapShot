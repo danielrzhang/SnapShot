{
 "cells": [
  {
   "cell_type": "code",
   "execution_count": null,
   "id": "dafdf8b9",
   "metadata": {},
   "outputs": [],
   "source": [
    "!pip install roboflow\n",
    "!pip install ultralytics           "
   ]
  },
  {
   "cell_type": "code",
   "execution_count": null,
   "id": "0e219565",
   "metadata": {},
   "outputs": [],
   "source": [
    "from roboflow import Roboflow\n",
    "from dotenv import load_dotenv\n",
    "import os\n",
    "load_dotenv(\"../.env\")\n",
    "rf = Roboflow(api_key=os.getenv(\"ROBOFLOW_API_KEY\"))\n",
    "project = rf.workspace(\"hockeycv-hpnix\").project(\"hockeycv\")\n",
    "version = project.version(2)\n",
    "dataset = version.download(\"yolov8\")      "
   ]
  },
  {
   "cell_type": "code",
   "execution_count": null,
   "id": "3dc86326",
   "metadata": {},
   "outputs": [],
   "source": [
    "!yolo task=pose mode=train plots=True batch=16 model=yolov8x-pose.pt data={dataset.location}/data.yaml epochs=500 imgsz=640"
   ]
  }
 ],
 "metadata": {
  "kernelspec": {
   "display_name": "Python 3",
   "language": "python",
   "name": "python3"
  },
  "language_info": {
   "codemirror_mode": {
    "name": "ipython",
    "version": 3
   },
   "file_extension": ".py",
   "mimetype": "text/x-python",
   "name": "python",
   "nbconvert_exporter": "python",
   "pygments_lexer": "ipython3",
   "version": "3.13.5"
  }
 },
 "nbformat": 4,
 "nbformat_minor": 5
}
